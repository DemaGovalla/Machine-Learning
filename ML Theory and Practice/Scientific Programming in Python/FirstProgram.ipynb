{
 "cells": [
  {
   "cell_type": "code",
   "execution_count": 266,
   "metadata": {},
   "outputs": [],
   "source": [
    "import numpy as np \n",
    "import matplotlib.pyplot as plt\n",
    "import time\n",
    "tic = time.process_time()"
   ]
  },
  {
   "cell_type": "code",
   "execution_count": 267,
   "metadata": {},
   "outputs": [
    {
     "name": "stdout",
     "output_type": "stream",
     "text": [
      "4\n"
     ]
    }
   ],
   "source": [
    "# basic data types, 0-D array \n",
    "aScalar = 4\n",
    "print(aScalar)\n"
   ]
  },
  {
   "cell_type": "code",
   "execution_count": 268,
   "metadata": {},
   "outputs": [
    {
     "name": "stdout",
     "output_type": "stream",
     "text": [
      "[1 2 3]\n",
      "1 3\n",
      "[2 3]\n"
     ]
    }
   ],
   "source": [
    "# 1-D array\n",
    "aVector = np.array([1,2,3])\n",
    "print(aVector)\n",
    "print(aVector[0], aVector[-1])\n",
    "print(aVector[1:3])\n",
    "\n"
   ]
  },
  {
   "cell_type": "code",
   "execution_count": 269,
   "metadata": {},
   "outputs": [
    {
     "name": "stdout",
     "output_type": "stream",
     "text": [
      "[[1 2 3]\n",
      " [4 5 6]]\n",
      "6\n"
     ]
    }
   ],
   "source": [
    "# 2-D array (2-d tensor) (1-d list)\n",
    "aMatrix = np.array([[1, 2, 3], [4, 5, 6]])\n",
    "print(aMatrix)\n",
    "# aMatrix[row, column]\n",
    "print(aMatrix[1,2])"
   ]
  },
  {
   "cell_type": "code",
   "execution_count": 270,
   "metadata": {},
   "outputs": [
    {
     "name": "stdout",
     "output_type": "stream",
     "text": [
      "[[1]\n",
      " [2]\n",
      " [3]]\n"
     ]
    }
   ],
   "source": [
    "aVector = np.array([[1, 2, 3]])\n",
    "print(aVector.T)"
   ]
  },
  {
   "cell_type": "code",
   "execution_count": 271,
   "metadata": {},
   "outputs": [
    {
     "name": "stdout",
     "output_type": "stream",
     "text": [
      "[[ 5 10 18]\n",
      " [28 40 54]]\n",
      "\n",
      "[[  1   8  27]\n",
      " [ 64 125 216]]\n",
      "\n",
      "[[False False False]\n",
      " [ True  True  True]]\n"
     ]
    }
   ],
   "source": [
    "# Elment wise operations on matrices\n",
    "\n",
    "matrix2 = np.array([[5,5,6],[7,8,9]])\n",
    "result1 = aMatrix * matrix2\n",
    "result2 = aMatrix ** 3\n",
    "result3 = aMatrix > 3\n",
    "\n",
    "print(result1)\n",
    "print(\"\")\n",
    "print(result2)\n",
    "print(\"\")\n",
    "print(result3)\n"
   ]
  },
  {
   "cell_type": "code",
   "execution_count": 272,
   "metadata": {},
   "outputs": [
    {
     "name": "stdout",
     "output_type": "stream",
     "text": [
      "[[ 33  50]\n",
      " [ 81 122]]\n"
     ]
    }
   ],
   "source": [
    "# dot product or inner product implementation\n",
    "\n",
    "result = aMatrix @ matrix2.T\n",
    "print(result)"
   ]
  },
  {
   "cell_type": "code",
   "execution_count": 273,
   "metadata": {},
   "outputs": [
    {
     "name": "stdout",
     "output_type": "stream",
     "text": [
      "[0 1 2 3 4 5 6 7 8 9]\n",
      "[0 2 4 6 8]\n"
     ]
    }
   ],
   "source": [
    "# vector with a list\n",
    "x = np.arange(10)\n",
    "print(x)\n",
    "\n",
    "#extract every second element \n",
    "print(x[::2])"
   ]
  },
  {
   "cell_type": "code",
   "execution_count": 274,
   "metadata": {},
   "outputs": [
    {
     "name": "stdout",
     "output_type": "stream",
     "text": [
      "[[1 2 3]\n",
      " [4 5 6]\n",
      " [5 5 6]\n",
      " [7 8 9]]\n"
     ]
    }
   ],
   "source": [
    "# Merge two arrays \n",
    "\n",
    "result = np.concatenate((aMatrix, matrix2), axis = 0)\n",
    "print(result)"
   ]
  },
  {
   "cell_type": "code",
   "execution_count": 275,
   "metadata": {},
   "outputs": [
    {
     "name": "stdout",
     "output_type": "stream",
     "text": [
      "(4, 3)\n"
     ]
    }
   ],
   "source": [
    "# Check the size and orientation of a matrix \n",
    "print(result.shape)"
   ]
  },
  {
   "cell_type": "code",
   "execution_count": 276,
   "metadata": {},
   "outputs": [
    {
     "name": "stdout",
     "output_type": "stream",
     "text": [
      "[[1 2 3 4 5 6]\n",
      " [5 5 6 7 8 9]]\n"
     ]
    }
   ],
   "source": [
    "# reorder the elements using rehsape\n",
    "\n",
    "print(result.reshape(2,6))\n"
   ]
  },
  {
   "cell_type": "code",
   "execution_count": 277,
   "metadata": {},
   "outputs": [
    {
     "name": "stdout",
     "output_type": "stream",
     "text": [
      "Hello_World!\n"
     ]
    }
   ],
   "source": [
    "text='Hello_World!'\n",
    "print(text)"
   ]
  },
  {
   "cell_type": "code",
   "execution_count": 278,
   "metadata": {},
   "outputs": [
    {
     "name": "stdout",
     "output_type": "stream",
     "text": [
      "0\n",
      "1\n",
      "2\n",
      "3\n",
      " \n"
     ]
    }
   ],
   "source": [
    "''' \n",
    "Control Flow\n",
    "'''\n",
    "# Loops \n",
    "for i in range(4):\n",
    "    print(i)\n",
    "\n",
    "print(\" \")\n"
   ]
  },
  {
   "cell_type": "code",
   "execution_count": 279,
   "metadata": {},
   "outputs": [
    {
     "name": "stdout",
     "output_type": "stream",
     "text": [
      " Fasle \n"
     ]
    }
   ],
   "source": [
    "#Conditional statement\n",
    "\n",
    "if aScalar <1 :\n",
    "    print(\" True \")\n",
    "else:\n",
    "    print(\" Fasle \")"
   ]
  },
  {
   "cell_type": "code",
   "execution_count": 280,
   "metadata": {},
   "outputs": [
    {
     "name": "stdout",
     "output_type": "stream",
     "text": [
      "12 3\n"
     ]
    }
   ],
   "source": [
    "# Functions\n",
    "\n",
    "def func(arg1, arg2 = 10):\n",
    "    arg = arg1 + arg2\n",
    "    return arg\n",
    "\n",
    "a = 1\n",
    "print(func(2), func(a, 2))"
   ]
  },
  {
   "cell_type": "code",
   "execution_count": 281,
   "metadata": {},
   "outputs": [],
   "source": [
    "# inline version of a function; defining the logistic sigmoid function as follows\n",
    "\n",
    "lsig = lambda x:1/ (1 +np.exp(-x))"
   ]
  },
  {
   "cell_type": "code",
   "execution_count": 282,
   "metadata": {},
   "outputs": [
    {
     "data": {
      "text/plain": [
       "Text(0, 0.5, 'y')"
      ]
     },
     "execution_count": 282,
     "metadata": {},
     "output_type": "execute_result"
    },
    {
     "data": {
      "image/png": "[encoded data removed]",
      "text/plain": [
       "<Figure size 640x480 with 1 Axes>"
      ]
     },
     "metadata": {},
     "output_type": "display_data"
    }
   ],
   "source": [
    "# plot the inline function\n",
    "\n",
    "x = np.arange(100)\n",
    "y = np.sin(0.1*x)\n",
    "plt.plot(x,y)\n",
    "# Assigning plots\n",
    "plt.xlabel(\"x\")\n",
    "plt.ylabel(\"y\")\n"
   ]
  },
  {
   "cell_type": "code",
   "execution_count": 283,
   "metadata": {},
   "outputs": [
    {
     "name": "stdout",
     "output_type": "stream",
     "text": [
      "[-10.  -9.  -8.  -7.  -6.  -5.  -4.  -3.  -2.  -1.   0.   1.   2.   3.\n",
      "   4.   5.   6.   7.   8.   9.  10.]\n"
     ]
    }
   ],
   "source": [
    "# All methoths shown here are the same\n",
    "\n",
    "x = np.array([])\n",
    "for i in range(21):\n",
    "    x = np.append( x, (i-10))\n",
    "\n",
    "x = np.array([i-10 for i in range(21) ])\n",
    "x = np.linspace(-10, 10, 21)\n",
    "print(x)\n"
   ]
  },
  {
   "cell_type": "code",
   "execution_count": 284,
   "metadata": {},
   "outputs": [
    {
     "data": {
      "image/png": "[encoded data removed]",
      "text/plain": [
       "<Figure size 640x480 with 1 Axes>"
      ]
     },
     "metadata": {},
     "output_type": "display_data"
    }
   ],
   "source": [
    "plt.plot(x, lsig(x))\n",
    "plt.rcParams.update({'font.size' : 20})\n",
    "plt.xlabel('x')\n",
    "plt.ylabel('y')\n",
    "plt.savefig('tmp.pdf', format = 'pdf')"
   ]
  },
  {
   "cell_type": "code",
   "execution_count": 285,
   "metadata": {},
   "outputs": [
    {
     "name": "stdout",
     "output_type": "stream",
     "text": [
      "0.140625\n"
     ]
    }
   ],
   "source": [
    "\n",
    "toc = time.process_time()\n",
    "print(toc-tic)"
   ]
  },
  {
   "cell_type": "code",
   "execution_count": null,
   "metadata": {},
   "outputs": [],
   "source": []
  }
 ],
 "metadata": {
  "kernelspec": {
   "display_name": "Python 3",
   "language": "python",
   "name": "python3"
  },
  "language_info": {
   "codemirror_mode": {
    "name": "ipython",
    "version": 3
   },
   "file_extension": ".py",
   "mimetype": "text/x-python",
   "name": "python",
   "nbconvert_exporter": "python",
   "pygments_lexer": "ipython3",
   "version": "3.10.1"
  },
  "orig_nbformat": 4
 },
 "nbformat": 4,
 "nbformat_minor": 2
}
