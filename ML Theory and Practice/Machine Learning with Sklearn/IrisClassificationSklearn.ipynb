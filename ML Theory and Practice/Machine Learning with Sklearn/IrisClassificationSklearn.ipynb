{
 "cells": [
  {
   "cell_type": "code",
   "execution_count": 37,
   "metadata": {},
   "outputs": [
    {
     "name": "stdout",
     "output_type": "stream",
     "text": [
      "(75, 4)\n"
     ]
    }
   ],
   "source": [
    "import numpy as np \n",
    "import matplotlib.pyplot as plt\n",
    "\n",
    "iris_data = np.loadtxt('irisdata.csv', delimiter = ',')\n",
    "\n",
    "x_train = iris_data[0:-1:2, 0:4]\n",
    "y_train = iris_data[0:-1:2, 4]\n",
    "\n",
    "x_test = iris_data[1:-1:2, 0:4]\n",
    "y_test = iris_data[1:-1:2, 4]\n",
    "\n",
    "print(x_train.shape)"
   ]
  },
  {
   "cell_type": "code",
   "execution_count": 38,
   "metadata": {},
   "outputs": [
    {
     "name": "stdout",
     "output_type": "stream",
     "text": [
      "[0. 0. 0. 0. 0. 0. 0. 0. 0. 0. 0. 0. 0. 0. 0. 0. 0. 0. 0. 0. 0. 0. 0. 0.\n",
      " 0. 1. 1. 1. 1. 1. 1. 1. 1. 1. 1. 1. 1. 1. 1. 1. 1. 2. 1. 1. 1. 1. 1. 1.\n",
      " 1. 1. 2. 2. 2. 2. 2. 2. 2. 2. 2. 2. 2. 2. 2. 2. 2. 2. 1. 2. 2. 2. 2. 2.\n",
      " 2. 2.]\n",
      "[0. 0. 0. 0. 0. 0. 0. 0. 0. 0. 0. 0. 0. 0. 0. 0. 0. 0. 0. 0. 0. 0. 0. 0.\n",
      " 0. 1. 1. 1. 1. 1. 1. 1. 1. 1. 1. 1. 1. 1. 1. 1. 1. 1. 1. 1. 1. 1. 1. 1.\n",
      " 1. 1. 2. 2. 2. 2. 2. 2. 2. 2. 2. 2. 2. 2. 2. 2. 2. 2. 2. 2. 2. 2. 2. 2.\n",
      " 2. 2.]\n",
      "Percentage correct (accuary) of SVM:  0.972972972972973\n"
     ]
    }
   ],
   "source": [
    "from sklearn import svm \n",
    "\n",
    "# model\n",
    "model = svm.SVC(kernel= 'linear')\n",
    "\n",
    "# train \n",
    "model.fit(x_train, y_train)\n",
    "\n",
    "# prediction \n",
    "y_predicted = model.predict(x_test)\n",
    "print(y_predicted)\n",
    "print(y_test)\n",
    "\n",
    "\n",
    "# evaluation \n",
    "print('Percentage correct (accuary) of SVM: ', np.mean(y_test == y_predicted))"
   ]
  },
  {
   "cell_type": "code",
   "execution_count": 39,
   "metadata": {},
   "outputs": [
    {
     "name": "stdout",
     "output_type": "stream",
     "text": [
      "Percentage correct(accuracy) of RFC: 0.9459459459459459\n"
     ]
    }
   ],
   "source": [
    "from sklearn.ensemble import RandomForestClassifier\n",
    "# model\n",
    "model = RandomForestClassifier(n_estimators = 10)\n",
    "# train\n",
    "model.fit(x_train , y_train)\n",
    "# prediction\n",
    "y_predicted = model.predict(x_test)\n",
    "#evaluation\n",
    "print('Percentage correct(accuracy) of RFC:',  np.mean(y_test == y_predicted ) )"
   ]
  },
  {
   "cell_type": "code",
   "execution_count": 40,
   "metadata": {},
   "outputs": [
    {
     "name": "stdout",
     "output_type": "stream",
     "text": [
      "Percentage correct(accuracy) of MLP: 0.972972972972973\n"
     ]
    },
    {
     "name": "stderr",
     "output_type": "stream",
     "text": [
      "c:\\Users\\dema2\\AppData\\Local\\Programs\\Python\\Python310\\lib\\site-packages\\sklearn\\neural_network\\_multilayer_perceptron.py:702: ConvergenceWarning: Stochastic Optimizer: Maximum iterations (200) reached and the optimization hasn't converged yet.\n",
      "  warnings.warn(\n"
     ]
    }
   ],
   "source": [
    "from sklearn.neural_network import MLPClassifier\n",
    "#model\n",
    "model = MLPClassifier(hidden_layer_sizes = (10, 20, 10))\n",
    "#train\n",
    "model.fit(x_train, y_train)\n",
    "#prediction\n",
    "y_predicted = model.predict(x_test)\n",
    "#evaluation\n",
    "print('Percentage correct(accuracy) of MLP:',  np.mean( y_test == y_predicted))"
   ]
  },
  {
   "cell_type": "code",
   "execution_count": 41,
   "metadata": {},
   "outputs": [
    {
     "data": {
      "text/plain": [
       "<function matplotlib.pyplot.show(close=None, block=None)>"
      ]
     },
     "execution_count": 41,
     "metadata": {},
     "output_type": "execute_result"
    },
    {
     "data": {
      "image/png": "[encoded data removed]",
      "text/plain": [
       "<Figure size 480x480 with 2 Axes>"
      ]
     },
     "metadata": {},
     "output_type": "display_data"
    }
   ],
   "source": [
    "from sklearn import metrics, model_selection\n",
    "# Confrusion Matrix\n",
    "\n",
    "cm = metrics.confusion_matrix(y_test, y_predicted)\n",
    "plt.matshow(cm)\n",
    "plt.colorbar()\n",
    "plt.ylabel('True label')\n",
    "plt.xlabel('Predicted Label')\n",
    "plt.show"
   ]
  },
  {
   "cell_type": "code",
   "execution_count": 42,
   "metadata": {},
   "outputs": [
    {
     "name": "stdout",
     "output_type": "stream",
     "text": [
      "\n",
      " The main classification metrics for iris data: \n",
      "\n",
      "               precision    recall  f1-score   support\n",
      "\n",
      "         0.0       1.00      1.00      1.00        25\n",
      "         1.0       1.00      0.92      0.96        25\n",
      "         2.0       0.92      1.00      0.96        24\n",
      "\n",
      "    accuracy                           0.97        74\n",
      "   macro avg       0.97      0.97      0.97        74\n",
      "weighted avg       0.98      0.97      0.97        74\n",
      "\n"
     ]
    }
   ],
   "source": [
    "# Model Evaluation\n",
    "print('\\n The main classification metrics for iris data: \\n\\n',metrics.classification_report(y_test, y_predicted))"
   ]
  },
  {
   "cell_type": "code",
   "execution_count": 45,
   "metadata": {},
   "outputs": [
    {
     "name": "stdout",
     "output_type": "stream",
     "text": [
      "Accuracy on iris data: 0.9733 (+/- 0.0442)\n"
     ]
    }
   ],
   "source": [
    "# cross-validation\n",
    "x = iris_data[:,0:4]\n",
    "y = iris_data[:,4]\n",
    "CV=10\n",
    "scores = model_selection.cross_val_score(svm.SVC(kernel='linear'), x, y, cv=CV)\n",
    "\n",
    "print(\"Accuracy on iris data: %0.4f (+/- %0.4f)\" % (scores.mean(), scores.std()))\n"
   ]
  },
  {
   "cell_type": "code",
   "execution_count": null,
   "metadata": {},
   "outputs": [],
   "source": []
  }
 ],
 "metadata": {
  "kernelspec": {
   "display_name": "Python 3",
   "language": "python",
   "name": "python3"
  },
  "language_info": {
   "codemirror_mode": {
    "name": "ipython",
    "version": 3
   },
   "file_extension": ".py",
   "mimetype": "text/x-python",
   "name": "python",
   "nbconvert_exporter": "python",
   "pygments_lexer": "ipython3",
   "version": "3.10.1"
  },
  "orig_nbformat": 4
 },
 "nbformat": 4,
 "nbformat_minor": 2
}
